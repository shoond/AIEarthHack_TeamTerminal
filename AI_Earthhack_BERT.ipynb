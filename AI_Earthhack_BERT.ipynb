{
  "nbformat": 4,
  "nbformat_minor": 0,
  "metadata": {
    "colab": {
      "provenance": [],
      "machine_shape": "hm",
      "gpuType": "T4",
      "authorship_tag": "ABX9TyOJvt9w/zAK6jXLFNMt3zpW",
      "include_colab_link": true
    },
    "kernelspec": {
      "name": "python3",
      "display_name": "Python 3"
    },
    "language_info": {
      "name": "python"
    },
    "accelerator": "GPU"
  },
  "cells": [
    {
      "cell_type": "markdown",
      "metadata": {
        "id": "view-in-github",
        "colab_type": "text"
      },
      "source": [
        "<a href=\"https://colab.research.google.com/github/shoond/AIEarthHack_TeamTerminal/blob/main/AI_Earthhack_BERT.ipynb\" target=\"_parent\"><img src=\"https://colab.research.google.com/assets/colab-badge.svg\" alt=\"Open In Colab\"/></a>"
      ]
    },
    {
      "cell_type": "code",
      "execution_count": null,
      "metadata": {
        "colab": {
          "base_uri": "https://localhost:8080/"
        },
        "id": "YOW1kF5Hukb2",
        "outputId": "708adb02-954f-4c1b-ace7-9ed3a9236331"
      },
      "outputs": [
        {
          "output_type": "stream",
          "name": "stdout",
          "text": [
            "Requirement already satisfied: transformers in /usr/local/lib/python3.10/dist-packages (4.35.2)\n",
            "Requirement already satisfied: filelock in /usr/local/lib/python3.10/dist-packages (from transformers) (3.13.1)\n",
            "Requirement already satisfied: huggingface-hub<1.0,>=0.16.4 in /usr/local/lib/python3.10/dist-packages (from transformers) (0.20.1)\n",
            "Requirement already satisfied: numpy>=1.17 in /usr/local/lib/python3.10/dist-packages (from transformers) (1.23.5)\n",
            "Requirement already satisfied: packaging>=20.0 in /usr/local/lib/python3.10/dist-packages (from transformers) (23.2)\n",
            "Requirement already satisfied: pyyaml>=5.1 in /usr/local/lib/python3.10/dist-packages (from transformers) (6.0.1)\n",
            "Requirement already satisfied: regex!=2019.12.17 in /usr/local/lib/python3.10/dist-packages (from transformers) (2023.6.3)\n",
            "Requirement already satisfied: requests in /usr/local/lib/python3.10/dist-packages (from transformers) (2.31.0)\n",
            "Requirement already satisfied: tokenizers<0.19,>=0.14 in /usr/local/lib/python3.10/dist-packages (from transformers) (0.15.0)\n",
            "Requirement already satisfied: safetensors>=0.3.1 in /usr/local/lib/python3.10/dist-packages (from transformers) (0.4.1)\n",
            "Requirement already satisfied: tqdm>=4.27 in /usr/local/lib/python3.10/dist-packages (from transformers) (4.66.1)\n",
            "Requirement already satisfied: fsspec>=2023.5.0 in /usr/local/lib/python3.10/dist-packages (from huggingface-hub<1.0,>=0.16.4->transformers) (2023.6.0)\n",
            "Requirement already satisfied: typing-extensions>=3.7.4.3 in /usr/local/lib/python3.10/dist-packages (from huggingface-hub<1.0,>=0.16.4->transformers) (4.5.0)\n",
            "Requirement already satisfied: charset-normalizer<4,>=2 in /usr/local/lib/python3.10/dist-packages (from requests->transformers) (3.3.2)\n",
            "Requirement already satisfied: idna<4,>=2.5 in /usr/local/lib/python3.10/dist-packages (from requests->transformers) (3.6)\n",
            "Requirement already satisfied: urllib3<3,>=1.21.1 in /usr/local/lib/python3.10/dist-packages (from requests->transformers) (2.0.7)\n",
            "Requirement already satisfied: certifi>=2017.4.17 in /usr/local/lib/python3.10/dist-packages (from requests->transformers) (2023.11.17)\n"
          ]
        }
      ],
      "source": [
        "!pip install transformers\n",
        "import pandas as pd\n",
        "import torch\n",
        "from sklearn.model_selection import train_test_split\n",
        "from transformers import BertTokenizer, BertForSequenceClassification, AdamW\n",
        "from torch.utils.data import DataLoader, TensorDataset\n"
      ]
    },
    {
      "cell_type": "code",
      "source": [
        "df_90 = pd.read_csv('https://raw.githubusercontent.com/shoond/portfolio/datasets/AI%20EarthHack%20Dataset_SA90.csv', encoding='Latin-1')"
      ],
      "metadata": {
        "id": "A_hGFVM8u2L-"
      },
      "execution_count": null,
      "outputs": []
    },
    {
      "cell_type": "code",
      "source": [
        "#Fine-tune BERT using cleaned up AI EarthHach dataset\n",
        "\n",
        "# Tokenize 'solution' text using BERT tokenizer\n",
        "tokenizer = BertTokenizer.from_pretrained('bert-base-uncased', do_lower_case=True)\n",
        "tokenized_texts = [tokenizer.encode(text, add_special_tokens=True, max_length=512, truncation=True) for text in df_90['solution']]\n",
        "\n",
        "# Pad sequences to the same length\n",
        "max_len = max([len(text) for text in tokenized_texts])\n",
        "padded_texts = torch.tensor([text + [0]*(max_len-len(text)) for text in tokenized_texts])\n",
        "\n",
        "# Convert labels (sentiment scores) to tensor\n",
        "labels = torch.tensor(df_90['solution_sentiment'].tolist())\n",
        "\n",
        "# Split data into train and test sets 70/30.\n",
        "train_inputs, test_inputs, train_labels, test_labels = train_test_split(padded_texts, labels, random_state=42, test_size=0.3)\n",
        "\n",
        "# Create DataLoader for train and test sets\n",
        "train_data = TensorDataset(train_inputs, train_labels)\n",
        "train_dataloader = DataLoader(train_data, batch_size=4, shuffle=True)\n",
        "\n",
        "test_data = TensorDataset(test_inputs, test_labels)\n",
        "test_dataloader = DataLoader(test_data, batch_size=4)\n",
        "\n",
        "# Load pre-trained BERT model for sequence classification\n",
        "model = BertForSequenceClassification.from_pretrained('bert-base-uncased', num_labels=1)\n",
        "model.cuda()  # Use GPU if available\n",
        "\n",
        "# Set optimizer and learning rate\n",
        "optimizer = AdamW(model.parameters(), lr=2e-5)\n",
        "\n",
        "# Fine-tuning the model\n",
        "model.train()\n",
        "for epoch in range(5):  # Train for 5 epochs (you can adjust this)\n",
        "    for batch in train_dataloader:\n",
        "        inputs, labels = batch\n",
        "        inputs = inputs.cuda()\n",
        "        labels = labels.float().unsqueeze(1).cuda()  # Assuming binary sentiment classification\n",
        "\n",
        "        optimizer.zero_grad()\n",
        "        outputs = model(inputs, labels=labels)\n",
        "        loss = outputs.loss\n",
        "        loss.backward()\n",
        "        optimizer.step()\n"
      ],
      "metadata": {
        "colab": {
          "base_uri": "https://localhost:8080/"
        },
        "id": "SMfqdhcYurMY",
        "outputId": "582d29fb-ddd9-464e-bf37-3f486a990e5e"
      },
      "execution_count": null,
      "outputs": [
        {
          "output_type": "stream",
          "name": "stderr",
          "text": [
            "Some weights of BertForSequenceClassification were not initialized from the model checkpoint at bert-base-uncased and are newly initialized: ['classifier.weight', 'classifier.bias']\n",
            "You should probably TRAIN this model on a down-stream task to be able to use it for predictions and inference.\n",
            "/usr/local/lib/python3.10/dist-packages/transformers/optimization.py:411: FutureWarning: This implementation of AdamW is deprecated and will be removed in a future version. Use the PyTorch implementation torch.optim.AdamW instead, or set `no_deprecation_warning=True` to disable this warning\n",
            "  warnings.warn(\n"
          ]
        },
        {
          "output_type": "stream",
          "name": "stdout",
          "text": [
            "Average Accuracy on Test Set: 0.0\n"
          ]
        }
      ]
    },
    {
      "cell_type": "code",
      "source": [
        "# Assuming model and tokenizer are your fine-tuned BERT model and tokenizer instances\n",
        "#save to local colab environment for later use\n",
        "model.save_pretrained('/content/')  # Save model weights and configuration\n",
        "tokenizer.save_pretrained('/content/')  # Save tokenizer\n"
      ],
      "metadata": {
        "colab": {
          "base_uri": "https://localhost:8080/"
        },
        "id": "EqVAo79Ox10X",
        "outputId": "8305395b-9513-4fd9-97fc-e64820e539b6"
      },
      "execution_count": null,
      "outputs": [
        {
          "output_type": "execute_result",
          "data": {
            "text/plain": [
              "('/content/tokenizer_config.json',\n",
              " '/content/special_tokens_map.json',\n",
              " '/content/vocab.txt',\n",
              " '/content/added_tokens.json')"
            ]
          },
          "metadata": {},
          "execution_count": 28
        }
      ]
    },
    {
      "cell_type": "code",
      "source": [
        "#Run model against new dataset\n",
        "import torch\n",
        "from transformers import BertForSequenceClassification, BertTokenizer\n",
        "from google.colab import files\n",
        "\n",
        "def load_model(model_path):\n",
        "    model = BertForSequenceClassification.from_pretrained('/content/')\n",
        "    return model\n",
        "\n",
        "def preprocess_text(text, tokenizer):\n",
        "    tokenized_text = tokenizer.encode_plus(\n",
        "        text,\n",
        "        add_special_tokens=True,\n",
        "        max_length=512,\n",
        "        padding='max_length',\n",
        "        return_attention_mask=True,\n",
        "        truncation=True\n",
        "    )\n",
        "    return tokenized_text\n",
        "\n",
        "def predict_sentiment(text, model, tokenizer):\n",
        "    device = torch.device(\"cuda\" if torch.cuda.is_available() else \"cpu\")\n",
        "    model.to(device)\n",
        "    model.eval()\n",
        "\n",
        "    tokenized_text = preprocess_text(text, tokenizer)\n",
        "\n",
        "    input_ids = torch.tensor([tokenized_text['input_ids']]).to(device)\n",
        "    attention_mask = torch.tensor([tokenized_text['attention_mask']]).to(device)\n",
        "\n",
        "    with torch.no_grad():\n",
        "        outputs = model(input_ids, attention_mask=attention_mask)\n",
        "\n",
        "    logits = outputs.logits\n",
        "    predicted_label = torch.sigmoid(logits).item()\n",
        "\n",
        "    return predicted_label\n",
        "\n",
        "\n",
        "def read_csv(file_path):\n",
        "    # Read the CSV file and drop rows with NaN values in 'problem' or 'solution' columns\n",
        "    data = pd.read_csv(file_path, encoding='Latin-1').dropna(subset=['problem', 'solution'])\n",
        "    return data\n",
        "\n",
        "\n",
        "def main():\n",
        "    # Load the fine-tuned model\n",
        "    model_path = '/content'\n",
        "    model = load_model(model_path)\n",
        "\n",
        "    # Load the BERT tokenizer\n",
        "    tokenizer = BertTokenizer.from_pretrained('bert-base-uncased')\n",
        "\n",
        "    # Read CSV file\n",
        "    csv_file_path = 'https://raw.githubusercontent.com/shoond/portfolio/datasets/AI%20EarthHack%20Dataset.csv'\n",
        "    data_to_test = read_csv(csv_file_path)\n",
        "\n",
        "    # Perform sentiment analysis on each row\n",
        "    for index, row in data_to_test.iterrows():\n",
        "        text = row['solution']  # Assuming the column name is 'solution'\n",
        "\n",
        "        # Predict sentiment\n",
        "        predicted_sentiment = predict_sentiment(text, model, tokenizer)\n",
        "\n",
        "        # Update the DataFrame with the predicted sentiment score\n",
        "        data_to_test.at[index, 'predicted_sentiment'] = predicted_sentiment\n",
        "\n",
        "        ##print(f\"Row {index + 1} - Predicted Sentiment Score: {predicted_sentiment}\")\n",
        "\n",
        "    # Saving the updated DataFrame to a new CSV locally\n",
        "    updated_csv_filename = 'Sentiment_Results.csv'  # Modify the filename as needed\n",
        "    data_to_test.to_csv(updated_csv_filename, index=False)\n",
        "    # Download the CSV file to your local machine\n",
        "    files.download('Sentiment_Results.csv')\n",
        "    print(f\"Updated DataFrame and saved as {updated_csv_filename} to downloads folder.\")\n",
        "\n",
        "\n",
        "if __name__ == \"__main__\":\n",
        "    main()\n"
      ],
      "metadata": {
        "colab": {
          "base_uri": "https://localhost:8080/",
          "height": 34
        },
        "id": "Mz8Ks0kowGUb",
        "outputId": "411a03e1-9638-4dbb-cbf4-f92131797191"
      },
      "execution_count": null,
      "outputs": [
        {
          "output_type": "display_data",
          "data": {
            "text/plain": [
              "<IPython.core.display.Javascript object>"
            ],
            "application/javascript": [
              "\n",
              "    async function download(id, filename, size) {\n",
              "      if (!google.colab.kernel.accessAllowed) {\n",
              "        return;\n",
              "      }\n",
              "      const div = document.createElement('div');\n",
              "      const label = document.createElement('label');\n",
              "      label.textContent = `Downloading \"${filename}\": `;\n",
              "      div.appendChild(label);\n",
              "      const progress = document.createElement('progress');\n",
              "      progress.max = size;\n",
              "      div.appendChild(progress);\n",
              "      document.body.appendChild(div);\n",
              "\n",
              "      const buffers = [];\n",
              "      let downloaded = 0;\n",
              "\n",
              "      const channel = await google.colab.kernel.comms.open(id);\n",
              "      // Send a message to notify the kernel that we're ready.\n",
              "      channel.send({})\n",
              "\n",
              "      for await (const message of channel.messages) {\n",
              "        // Send a message to notify the kernel that we're ready.\n",
              "        channel.send({})\n",
              "        if (message.buffers) {\n",
              "          for (const buffer of message.buffers) {\n",
              "            buffers.push(buffer);\n",
              "            downloaded += buffer.byteLength;\n",
              "            progress.value = downloaded;\n",
              "          }\n",
              "        }\n",
              "      }\n",
              "      const blob = new Blob(buffers, {type: 'application/binary'});\n",
              "      const a = document.createElement('a');\n",
              "      a.href = window.URL.createObjectURL(blob);\n",
              "      a.download = filename;\n",
              "      div.appendChild(a);\n",
              "      a.click();\n",
              "      div.remove();\n",
              "    }\n",
              "  "
            ]
          },
          "metadata": {}
        },
        {
          "output_type": "display_data",
          "data": {
            "text/plain": [
              "<IPython.core.display.Javascript object>"
            ],
            "application/javascript": [
              "download(\"download_dd358bec-75b1-405c-b30f-1b8ced1dd4ef\", \"Sentiment_Results.csv\", 1832054)"
            ]
          },
          "metadata": {}
        },
        {
          "output_type": "stream",
          "name": "stdout",
          "text": [
            "Updated DataFrame and saved as Sentiment_Results.csv to downloads folder.\n"
          ]
        }
      ]
    },
    {
      "cell_type": "code",
      "source": [],
      "metadata": {
        "id": "u1V4ZGwQy_mW"
      },
      "execution_count": null,
      "outputs": []
    }
  ]
}