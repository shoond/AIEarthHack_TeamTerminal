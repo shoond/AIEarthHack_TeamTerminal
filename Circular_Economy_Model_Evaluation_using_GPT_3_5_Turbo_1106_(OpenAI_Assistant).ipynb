{
  "nbformat": 4,
  "nbformat_minor": 0,
  "metadata": {
    "colab": {
      "provenance": [],
      "include_colab_link": true
    },
    "kernelspec": {
      "name": "python3",
      "display_name": "Python 3"
    },
    "language_info": {
      "name": "python"
    }
  },
  "cells": [
    {
      "cell_type": "markdown",
      "metadata": {
        "id": "view-in-github",
        "colab_type": "text"
      },
      "source": [
        "<a href=\"https://colab.research.google.com/github/shoond/AIEarthHack_TeamTerminal/blob/main/Circular_Economy_Model_Evaluation_using_GPT_3_5_Turbo_1106_(OpenAI_Assistant).ipynb\" target=\"_parent\"><img src=\"https://colab.research.google.com/assets/colab-badge.svg\" alt=\"Open In Colab\"/></a>"
      ]
    },
    {
      "cell_type": "markdown",
      "source": [
        "# Circular Economy Model Evaluation using GPT-3.5-Turbo-1106 (OpenAI Assistant)"
      ],
      "metadata": {
        "id": "q_onEdIlf4au"
      }
    },
    {
      "cell_type": "markdown",
      "source": [
        "### 1. Installing necessary packages"
      ],
      "metadata": {
        "id": "DmoqMhm6j54o"
      }
    },
    {
      "cell_type": "code",
      "execution_count": null,
      "metadata": {
        "id": "_gjx0mi4MqMO"
      },
      "outputs": [],
      "source": [
        "# Installing openai packages\n",
        "!pip install openai"
      ]
    },
    {
      "cell_type": "markdown",
      "source": [
        "### 2. Creating the OpenAI assistant based on GPT-3.5-Turbo-1106\n",
        "**Make sure you input your api_key in the second line of the following cell**"
      ],
      "metadata": {
        "id": "ZOrQrMp4j-uP"
      }
    },
    {
      "cell_type": "code",
      "source": [
        "from openai import OpenAI\n",
        "# creating OpenAI assistant, please input your api key\n",
        "client = OpenAI(api_key='sk-XXXXXXXXXXXXX')\n",
        "\n",
        "# model selection and prompt engineering.\n",
        "my_assistant = client.beta.assistants.create(\n",
        "    instructions=\"You are an expert in evaluating circular economy models. You will be given problems and circular economy solutions as datasets, for each pair, you will evaluate whether they satisfy any of the following aspects Function (refuse, rethink, reduce), Product(reuse, refurbish, remanufacture), Component (reuse, repurpose), Material (Recycle, downcycle), Embodied energy (energy recovery), detail-orientation(provides actionable plan with specific steps instead of over-the-top empty words), coherence(whether the solution is consistently focused on the problem posed) and generate a score out of 10 for each aspect, explaining your evaluation. In your overall analysis, also include the average of the scores given to the individual aspects, to the first decimal place. Make sure your evaluation quotes parts of the problem and solution provided and analyze in detail whether the solution works, instead of a simple yes or no, these need to be substantial, coherent, logical evaluations. You will also give a score for Negative aspect: waste generation / off-topic / trolling / safety hazards.\",\n",
        "    name=\"Circular Economy Evaluator\",\n",
        "    model=\"gpt-3.5-turbo-1106\",\n",
        ")\n",
        "# print(my_assistant) # for testing purposes - to make sure assistant is created successfully, you should see a list of relevant info like assistant id etc."
      ],
      "metadata": {
        "id": "C_bA7I_bMsok"
      },
      "execution_count": null,
      "outputs": []
    },
    {
      "cell_type": "markdown",
      "source": [
        "### 3. Creating a thread for messages\n",
        "##### Think of this as opening a chat window with the assistant, here is where you messages will go!"
      ],
      "metadata": {
        "id": "WyRZmXMOkICm"
      }
    },
    {
      "cell_type": "code",
      "source": [
        "thread_123 = client.beta.threads.create()\n",
        "# print(thread_123)"
      ],
      "metadata": {
        "id": "p_v8PwpHM_Fz"
      },
      "execution_count": null,
      "outputs": []
    },
    {
      "cell_type": "markdown",
      "source": [
        "### 4. IF you are importing problem-solution pairs stored inside a csv file"
      ],
      "metadata": {
        "id": "m5Y3t2UXkb1S"
      }
    },
    {
      "cell_type": "markdown",
      "source": [
        "**(SCROLL DOWN TO THE NEXT CELL IF YOU WANT TO INPUT EACH PROBLEM AND SOLUTION SET MANUALLY)**\n",
        "**Make sure that your file has a 'problem' column and a 'solution column'**\n",
        "The problem-solution pair and evaluation will appear both in the console with the print() function, and in a txt file named \"output_test_auto.txt\" in this google colab window (click on the file icon in the left navigation bar to access it)\n",
        "Please be patient as the model takes some time to generate each response\n"
      ],
      "metadata": {
        "id": "3Bh-SgYgkoJo"
      }
    },
    {
      "cell_type": "code",
      "source": [
        "import pandas as pd\n",
        "import time\n",
        "import textwrap\n",
        "# Assuming you have a DataFrame 'df' with 'problem' and 'solution' columns\n",
        "# the following is where you put your csv file for the program to read\n",
        "df = pd.read_csv('https://raw.githubusercontent.com/shoond/portfolio/datasets/AI%20EarthHack%20Dataset.csv', encoding='Latin-1')  # Read the CSV file into a DataFrame\n",
        "\n",
        "# Fetches the list of messages from the model\n",
        "thread_messages = client.beta.threads.messages.list(thread_123.id)\n",
        "\n",
        "for index, row in df.iterrows():\n",
        "    problem = row['problem']\n",
        "    solution = row['solution']\n",
        "\n",
        "    thread_message = client.beta.threads.messages.create(\n",
        "        thread_id=thread_123.id,\n",
        "        role=\"user\",\n",
        "        content=f\"Problem: {problem}\\nSolution: {solution}\"\n",
        "    )\n",
        "    # waits for the prommpt to be updated before running the assistant for evaluation\n",
        "    time.sleep(5)\n",
        "\n",
        "    run = client.beta.threads.runs.create(\n",
        "    thread_id=thread_123.id,\n",
        "    assistant_id=my_assistant.id\n",
        ")\n",
        "    # waits for the model to evaluate before updating evaluation here & in txt file\n",
        "    time.sleep(25)\n",
        "\n",
        "    messages = client.beta.threads.messages.list(\n",
        "    thread_id=thread_123.id\n",
        ")\n",
        "\n",
        "\n",
        "\n",
        "    qna = thread_message.content[0].text.value\n",
        "    print(qna)\n",
        "\n",
        "    text1 = messages.data[0].content[0].text.value\n",
        "    print(text1)\n",
        "\n",
        "    with open('output_test_auto.txt', 'a') as file:\n",
        "      file.write(str(index+1) + \"\\n\")\n",
        "      file.write(qna + \"\\n\" + \"\\n\")\n",
        "      file.write(text1 + '\\n' + \"\\n\")\n",
        "\n"
      ],
      "metadata": {
        "id": "E3kFZd47NKV6"
      },
      "execution_count": null,
      "outputs": []
    },
    {
      "cell_type": "markdown",
      "source": [
        "### 5. IF you are inputing each problem-solution pair manually\n",
        "A input box will be prompted each time you run this cell, enter your prompt in the format of \"Problem: xxxxx. Solution: xxxxxx.\" The problem-solution pair and evaluation will appear both in the console with the print() function, and in a txt file named \"output_test_manual.txt\" in this google colab window (click on the file icon in the left navigation bar to access it) Please be patient as the model takes some time to generate each response"
      ],
      "metadata": {
        "id": "SRp3rdsMpbuo"
      }
    },
    {
      "cell_type": "code",
      "source": [
        "import time\n",
        "thread_123 = client.beta.threads.create()\n",
        "print(thread_123)\n",
        "\n",
        "thread_messages = client.beta.threads.messages.list(thread_123.id)\n",
        "\n",
        "thread_message = client.beta.threads.messages.create(\n",
        "    thread_id=thread_123.id,\n",
        "    role=\"user\",\n",
        "    content=input(\"write the problem solution pair here\")\n",
        ")\n",
        "\n",
        "run = client.beta.threads.runs.create(\n",
        "    thread_id=thread_123.id,\n",
        "    assistant_id=my_assistant.id\n",
        ")\n",
        "\n",
        "# waits for the model to evaluate before updating evaluation here & in txt file\n",
        "time.sleep(20)\n",
        "\n",
        "messages = client.beta.threads.messages.list(\n",
        "    thread_id=thread_123.id\n",
        ")\n",
        "qna = thread_message.content[0].text.value\n",
        "print(qna)\n",
        "\n",
        "text1 = messages.data[0].content[0].text.value\n",
        "print(text1)\n",
        "\n",
        "with open('output_test_manual.txt', 'a') as file:\n",
        "      file.write(str(index+1) + \"\\n\")\n",
        "      file.write(qna + \"\\n\" + \"\\n\")\n",
        "      file.write(text1 + '\\n' + \"\\n\")\n",
        "\n",
        "\n",
        "\n"
      ],
      "metadata": {
        "colab": {
          "base_uri": "https://localhost:8080/"
        },
        "id": "TUwVttpzS-DS",
        "outputId": "99c8565a-c428-466e-b86a-0bed5e7e0e2a"
      },
      "execution_count": null,
      "outputs": [
        {
          "output_type": "stream",
          "name": "stdout",
          "text": [
            "Thread(id='thread_sEOyJddcpGHGmTh5UzGlCCx8', created_at=1704665391, metadata={}, object='thread')\n",
            "write the problem solution pair hereProblem: Every year at some location on the planet there are natural disasters such as earthquakes, mudslides, floods, volcano eruptions, tsnamis, forest fires, and man-made disasters emanating from terrorism, wars or local tribal fighting. There is one constant result: people die from exposure to the elements, from direct personal violence, from the loss of their homes to quick flowing water or mud or falling buildings. Finding shelter in a rainy environment, at night, is extremely difficult.  Living exposed to weather conditions, particularly when the temperature falls below 50 degrees F., especially for a family, is beyond stressful.  The consuming nations of the world, especially when there are no local natural disasters requiring nearly constant attention, accumulate an abundance of plastic materials including water bottles, containers, toys, part-plastic partitions,  which those same nations have developed recycling facilities that turn varying plastic materials into other more useable plastic material. Certainly one of the easiest products to make is called the Meal-Brick(TM R).  A Meal-Brick(TM,R) is a recycled, clear, or colored walled, FOLDABLE, EXPANDABLE, iNTERLOCKING, CUBE OR SQUARE  or  Rectangular PLASTIC CONTAINER of various sized walls, sides, top and bottom where 'Living Hinges' from the same or similar plastic are strategically placed to permit the cube to FOLD in-ward/outward/downward/upward so that in expanded state it might measure 12\"\" X 12\"\" X 12\"\" or any fraction thereof and which can be stacked together and banded with PVC wrapping either as expanded cubes or, alternatively, can be folded down so that the sides and tops of each cube touch themselves and where one cube may touch other similar cubes in a larger pallet sized square so that, even 1500 similar squares, that, will float can be air-dropped so that two such pallets, together with 'tarps' as roofs, could be stacked one atop of another and which are not only designed to interlock via plastic-tits together but with each set in a manner that stakes of wood or iron shaped and reshaped from local detritus caused from former, now fallen, structures and so locked but such detritus as to make sturdy walls, including openings for windows and doors (also from detritus) sufficient to house a family of at least 12 people.  Meal-Brick can arrive full folded to thus serve as components of construction (with a house-shelter capable of being assembled/erected within 4 hours thus providing overall shelter in a 24 hour period for 72 people. The cost of each PLASTIC BRICK, manufactured in factories by 100,000 per day shall be supplemented by the World Bank and Contributing Countries @ 1 US Dollar/Brick. The Bricks may also be delivered with folding internal compartments and rigidity structures already full of bottles of water, packets of crackers, Meal-Ready-to-Eat, Basic Medicines, Water Purifying tablets, and anything else that could be packed into the 12\"\" x 12\"\"x12\"\" (or smaller cubic, rectangular, square) container interior space.  Air-Dropping onto grass-lands, hedge-groves, near shores of streams and rivers, or ocean shores permits rapid deployment and delivery of required food-stuffs and medicines, and shelters at minimum costs especially since it is anticipated that pre-positioning of these supplies could be arranged in areas threatened by disaster,  terrorism, and conflict.   Images of Meal-Brick both in a Foldable and in a Filled state are attached.  While Meal-Brick offers a near permanent shelter since the assembled houses, once built will sustain weathering for as long as 5 years.  A less permanent shelter, call SLEEP-SAFE (PAT. PEND.) IS also included.  Sleep-safe, Is a protective covering made from Kevlar-like anti-ballistic cloth with strategic pockets place on its perimeter and side that will hold further anti-ballistic, plastic, wood, and metal plates designed and positioned to prevent shrapnel  and the detritus from nearby explosions NOT to Penetrate. Further Sleep-Safe is set up on Plasticized/Metal Rigging so as to achieve an assembled shape of the Abrams Battle Tank Turret so as to further retard projectiles and shrapnel.  Sleep-Safe may also be hung along walls or openings to provide further protection with each such Sleep-Safe covering measuring 6' x 8'.  With the use of heavy zippers, Sleep-Safe may be re-configured into a ground covering such as the covering over a Fox-Hole. Further, the cover may be reconfigured using the Zippers as a PERSONNEL PONCHO so that individual Sleep-Safe covers become wearable individual protection for soldiers or combattants. Solutions: There are no solutions available for those who have suffered natural calamity or those continuing to suffer the effects of warring countries. Meal-Brick will save lives the very day they are dropped or delivered for use anywhere. They are designed to take instant advantage of any venue in which they are needed.  People will instantly understand how they are to be used and their contents will save lives immediately.  Sleep-Safe(R, Pat Pend) can similarly be air-dropped and will provide instant life-saving protection.  Further, Sleep-Safe can be easily reconfigured to provide protection for walls of apartment structures as well as battle-hospitals.\n",
            "Problem: Every year at some location on the planet there are natural disasters such as earthquakes, mudslides, floods, volcano eruptions, tsnamis, forest fires, and man-made disasters emanating from terrorism, wars or local tribal fighting. There is one constant result: people die from exposure to the elements, from direct personal violence, from the loss of their homes to quick flowing water or mud or falling buildings. Finding shelter in a rainy environment, at night, is extremely difficult.  Living exposed to weather conditions, particularly when the temperature falls below 50 degrees F., especially for a family, is beyond stressful.  The consuming nations of the world, especially when there are no local natural disasters requiring nearly constant attention, accumulate an abundance of plastic materials including water bottles, containers, toys, part-plastic partitions,  which those same nations have developed recycling facilities that turn varying plastic materials into other more useable plastic material. Certainly one of the easiest products to make is called the Meal-Brick(TM R).  A Meal-Brick(TM,R) is a recycled, clear, or colored walled, FOLDABLE, EXPANDABLE, iNTERLOCKING, CUBE OR SQUARE  or  Rectangular PLASTIC CONTAINER of various sized walls, sides, top and bottom where 'Living Hinges' from the same or similar plastic are strategically placed to permit the cube to FOLD in-ward/outward/downward/upward so that in expanded state it might measure 12\"\" X 12\"\" X 12\"\" or any fraction thereof and which can be stacked together and banded with PVC wrapping either as expanded cubes or, alternatively, can be folded down so that the sides and tops of each cube touch themselves and where one cube may touch other similar cubes in a larger pallet sized square so that, even 1500 similar squares, that, will float can be air-dropped so that two such pallets, together with 'tarps' as roofs, could be stacked one atop of another and which are not only designed to interlock via plastic-tits together but with each set in a manner that stakes of wood or iron shaped and reshaped from local detritus caused from former, now fallen, structures and so locked but such detritus as to make sturdy walls, including openings for windows and doors (also from detritus) sufficient to house a family of at least 12 people.  Meal-Brick can arrive full folded to thus serve as components of construction (with a house-shelter capable of being assembled/erected within 4 hours thus providing overall shelter in a 24 hour period for 72 people. The cost of each PLASTIC BRICK, manufactured in factories by 100,000 per day shall be supplemented by the World Bank and Contributing Countries @ 1 US Dollar/Brick. The Bricks may also be delivered with folding internal compartments and rigidity structures already full of bottles of water, packets of crackers, Meal-Ready-to-Eat, Basic Medicines, Water Purifying tablets, and anything else that could be packed into the 12\"\" x 12\"\"x12\"\" (or smaller cubic, rectangular, square) container interior space.  Air-Dropping onto grass-lands, hedge-groves, near shores of streams and rivers, or ocean shores permits rapid deployment and delivery of required food-stuffs and medicines, and shelters at minimum costs especially since it is anticipated that pre-positioning of these supplies could be arranged in areas threatened by disaster,  terrorism, and conflict.   Images of Meal-Brick both in a Foldable and in a Filled state are attached.  While Meal-Brick offers a near permanent shelter since the assembled houses, once built will sustain weathering for as long as 5 years.  A less permanent shelter, call SLEEP-SAFE (PAT. PEND.) IS also included.  Sleep-safe, Is a protective covering made from Kevlar-like anti-ballistic cloth with strategic pockets place on its perimeter and side that will hold further anti-ballistic, plastic, wood, and metal plates designed and positioned to prevent shrapnel  and the detritus from nearby explosions NOT to Penetrate. Further Sleep-Safe is set up on Plasticized/Metal Rigging so as to achieve an assembled shape of the Abrams Battle Tank Turret so as to further retard projectiles and shrapnel.  Sleep-Safe may also be hung along walls or openings to provide further protection with each such Sleep-Safe covering measuring 6' x 8'.  With the use of heavy zippers, Sleep-Safe may be re-configured into a ground covering such as the covering over a Fox-Hole. Further, the cover may be reconfigured using the Zippers as a PERSONNEL PONCHO so that individual Sleep-Safe covers become wearable individual protection for soldiers or combattants. Solutions: There are no solutions available for those who have suffered natural calamity or those continuing to suffer the effects of warring countries. Meal-Brick will save lives the very day they are dropped or delivered for use anywhere. They are designed to take instant advantage of any venue in which they are needed.  People will instantly understand how they are to be used and their contents will save lives immediately.  Sleep-Safe(R, Pat Pend) can similarly be air-dropped and will provide instant life-saving protection.  Further, Sleep-Safe can be easily reconfigured to provide protection for walls of apartment structures as well as battle-hospitals.\n",
            "The circular economy model presented in the solution offers a potential approach to addressing the urgent need for shelter, protection, and sustenance in the aftermath of natural disasters and/or conflicts. Let's evaluate each aspect of the circular economy model in terms of its satisfaction of various criteria:\n",
            "\n",
            "1. Function (Refuse, Rethink, Reduce):\n",
            "The solution clearly contributes to the \"Rethink\" aspect of the circular economy by repurposing plastic waste into foldable, expandable containers and protective covers. By repurposing waste plastic materials, it reduces the environmental impact of plastic waste and provides a practical function in disaster relief scenarios. Additionally, it helps in reducing the need for manufacturing new materials by converting plastic waste into useful products. Hence, it satisfactorily addresses the \"Function\" aspect.\n",
            "\n",
            "Score: 9/10\n",
            "\n",
            "2. Product (Reuse, Refurbish, Remanufacture):\n",
            "The model primarily focuses on reusing plastic materials to create foldable, expandable containers and protective covers, thereby fulfilling the aspect of \"Product.\" It repurposes plastic waste into useful products for disaster relief, making efficient use of available resources.\n",
            "\n",
            "Score: 8/10\n",
            "\n",
            "3. Component (Reuse, Repurpose):\n",
            "The utilization of plastic waste to create foldable containers and protective covers demonstrates the repurposing and reusing of components, aligning with the \"Component\" aspect. By repurposing plastic waste into valuable components for shelter and protection, it effectively addresses this aspect.\n",
            "\n",
            "Score: 9/10\n",
            "\n",
            "4. Material (Recycle, Downcycle):\n",
            "The solution involves recycling plastic waste into foldable containers and protective covers, aligning with the \"Material\" aspect of the circular economy. By converting plastic waste into functional materials for shelter and protection, it contributes to the efficient use of resources and waste reduction.\n",
            "\n",
            "Score: 8/10\n",
            "\n",
            "5. Embodied Energy (Energy Recovery):\n",
            "While the solution does not explicitly address energy recovery from waste materials, it effectively repurposes plastic waste into valuable products without requiring substantial additional energy for manufacturing new materials. Therefore, it indirectly contributes to energy recovery by reducing the need for additional energy-intensive production.\n",
            "\n",
            "Score: 7/10\n",
            "\n",
            "6. Detail-Orientation:\n",
            "The solution provides a detailed plan for the creation and deployment of the Meal-Brick(TM R) and Sleep-Safe(R) products in disaster scenarios. It outlines specific features such as foldable, expandable, and interlocking designs, as well as the inclusion of essential supplies within the containers. The detailed description of deployment methods and potential uses enhances the practicality and feasibility of the proposed circular economy model.\n",
            "\n",
            "Score: 10/10\n",
            "\n",
            "7. Coherence:\n",
            "The solution remains consistently focused on addressing the challenges posed by natural disasters and conflicts, offering practical and coherent responses in the form of efficient shelter, protective covers, and essential supplies. The products align with the identified needs and are designed to provide immediate assistance, demonstrating coherence with the problem at hand.\n",
            "\n",
            "Score: 10/10\n",
            "\n",
            "Negative Aspect:\n",
            "The potential negative aspect lies in the excessive reliance on plastic materials, raising concerns about the environmental impact of plastic waste, especially in the long term. While the immediate benefits for disaster relief are evident, the long-term implications of utilizing large quantities of plastic materials should be thoroughly considered and mitigated.\n",
            "\n",
            "Overall, the average score for the individual aspects of the circular economy model is (9+8+9+8+7+10+10)/7 = 8.7\n",
            "\n",
            "In conclusion, the proposed circular economy model effectively repurposes plastic waste to address the critical need for shelter, protection, and supplies in disaster and conflict situations. It demonstrates a strong focus on reusing and repurposing materials to create practical solutions, while also providing specific details for implementation. However, the long-term environmental impact of relying extensively on plastic materials should be carefully assessed and managed.\n"
          ]
        }
      ]
    }
  ]
}